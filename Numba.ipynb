{
 "cells": [
  {
   "cell_type": "markdown",
   "metadata": {},
   "source": [
    "# System Identification With Python\n",
    "\n",
    "I need to analyse some data. This is part of that analysis.\n",
    "\n",
    "## Part 1: Generate Fake Data\n",
    "\n",
    "To identify data we need to have some known data to identify."
   ]
  },
  {
   "cell_type": "code",
   "execution_count": 16,
   "metadata": {},
   "outputs": [],
   "source": [
    "import random\n",
    "# Parallel Path\n",
    "from scipy import signal\n",
    "import numpy as np\n",
    "import matplotlib\n",
    "\n",
    "plt = matplotlib.pyplot\n",
    "\n",
    "%matplotlib inline"
   ]
  },
  {
   "cell_type": "code",
   "execution_count": 23,
   "metadata": {
    "collapsed": true
   },
   "outputs": [],
   "source": [
    "def sine(t=None, amplitude=1, frequency=1, phase=0):\n",
    "    return amplitude*np.sin(2*np.pi*frequency*t+phase)"
   ]
  },
  {
   "cell_type": "code",
   "execution_count": 25,
   "metadata": {
    "scrolled": true
   },
   "outputs": [
    {
     "data": {
      "text/plain": [
       "[<matplotlib.lines.Line2D at 0x7fd3ec081fd0>]"
      ]
     },
     "execution_count": 25,
     "metadata": {},
     "output_type": "execute_result"
    },
    {
     "data": {
      "image/png": "[encoded data removed]",
      "text/plain": [
       "<matplotlib.figure.Figure at 0x7fd3ebf94080>"
      ]
     },
     "metadata": {},
     "output_type": "display_data"
    }
   ],
   "source": [
    "t=np.arange(0, 1, 0.01)\n",
    "y = sine(t)\n",
    "plt.plot(t, y)"
   ]
  },
  {
   "cell_type": "code",
   "execution_count": 26,
   "metadata": {
    "collapsed": true
   },
   "outputs": [],
   "source": [
    "from scipy.fftpack import fft"
   ]
  },
  {
   "cell_type": "code",
   "execution_count": 27,
   "metadata": {
    "collapsed": true
   },
   "outputs": [],
   "source": [
    "t=np.arange(0, 100, 0.01)\n",
    "y = sine(t)"
   ]
  },
  {
   "cell_type": "code",
   "execution_count": 29,
   "metadata": {},
   "outputs": [
    {
     "name": "stderr",
     "output_type": "stream",
     "text": [
      "/projects/python_SystemID/venv/lib/python3.5/site-packages/ipykernel_launcher.py:14: DeprecationWarning: object of type <class 'float'> cannot be safely interpreted as an integer.\n",
      "  \n"
     ]
    },
    {
     "data": {
      "image/png": "[encoded data removed]",
      "text/plain": [
       "<matplotlib.figure.Figure at 0x7fd3ebf6b4e0>"
      ]
     },
     "metadata": {},
     "output_type": "display_data"
    }
   ],
   "source": [
    "## Working Example from Stack Overflow.\n",
    "%matplotlib inline\n",
    "import numpy as np\n",
    "import matplotlib.pyplot as plt\n",
    "import scipy.fftpack\n",
    "\n",
    "# Number of samplepoints\n",
    "N = 600\n",
    "# sample spacing\n",
    "T = 1.0 / 800.0\n",
    "x = np.linspace(0.0, N*T, N)\n",
    "y = np.sin(50.0 * 2.0*np.pi*x) + 0.5*np.sin(80.0 * 2.0*np.pi*x)\n",
    "yf = scipy.fftpack.fft(y)\n",
    "xf = np.linspace(0.0, 1.0/(2.0*T), N/2)\n",
    "\n",
    "fig, ax = plt.subplots()\n",
    "ax.plot(xf, 2.0/N * np.abs(yf[:N//2]))\n",
    "plt.show()"
   ]
  },
  {
   "cell_type": "code",
   "execution_count": 31,
   "metadata": {},
   "outputs": [
    {
     "data": {
      "text/plain": [
       "0.01"
      ]
     },
     "execution_count": 31,
     "metadata": {},
     "output_type": "execute_result"
    }
   ],
   "source": [
    "t[1]"
   ]
  },
  {
   "cell_type": "code",
   "execution_count": 35,
   "metadata": {},
   "outputs": [
    {
     "data": {
      "text/plain": [
       "array([ 0.  ,  0.01,  0.02, ..., -0.03, -0.02, -0.01])"
      ]
     },
     "execution_count": 35,
     "metadata": {},
     "output_type": "execute_result"
    }
   ],
   "source": [
    "np.fft.fftfreq(len(t), t[1] - t[0])"
   ]
  },
  {
   "cell_type": "code",
   "execution_count": 36,
   "metadata": {
    "collapsed": true
   },
   "outputs": [],
   "source": [
    "Y = np.fft.fft(y)"
   ]
  },
  {
   "cell_type": "code",
   "execution_count": 37,
   "metadata": {},
   "outputs": [
    {
     "data": {
      "text/plain": [
       "array([  5.01874111e+00 +0.00000000e+00j,\n",
       "         5.02225132e+00 +1.82513100e-02j,\n",
       "         5.03281167e+00 +3.66003826e-02j,\n",
       "         5.05051196e+00 +5.51464880e-02j,\n",
       "         5.07550400e+00 +7.39919578e-02j,\n",
       "         5.10800492e+00 +9.32438355e-02j,\n",
       "         5.14830193e+00 +1.13015676e-01j,\n",
       "         5.19675891e+00 +1.33429560e-01j,\n",
       "         5.25382487e+00 +1.54618391e-01j,\n",
       "         5.32004482e+00 +1.76728575e-01j,\n",
       "         5.39607361e+00 +1.99923191e-01j,\n",
       "         5.48269321e+00 +2.24385797e-01j,\n",
       "         5.58083459e+00 +2.50325064e-01j,\n",
       "         5.69160519e+00 +2.77980487e-01j,\n",
       "         5.81632388e+00 +3.07629499e-01j,\n",
       "         5.95656529e+00 +3.39596440e-01j,\n",
       "         6.11421699e+00 +3.74263994e-01j,\n",
       "         6.29155338e+00 +4.12087934e-01j,\n",
       "         6.49133260e+00 +4.53616393e-01j,\n",
       "         6.71692495e+00 +4.99515348e-01j,\n",
       "         6.97248531e+00 +5.50602829e-01j,\n",
       "         7.26318819e+00 +6.07895550e-01j,\n",
       "         7.59555366e+00 +6.72673554e-01j,\n",
       "         7.97790757e+00 +7.46571562e-01j,\n",
       "         8.42104552e+00 +8.31710827e-01j,\n",
       "         8.93921412e+00 +9.30894093e-01j,\n",
       "         9.55160140e+00 +1.04790190e+00j,\n",
       "         1.02846740e+01 +1.18795747e+00j,\n",
       "         1.11759808e+01 +1.35848357e+00j,\n",
       "         1.22806216e+01 +1.57039027e+00j,\n",
       "         1.36828486e+01 +1.84038504e+00j,\n",
       "         1.55182728e+01 +2.19539582e+00j,\n",
       "         1.80200257e+01 +2.68176653e+00j,\n",
       "         2.16256208e+01 +3.38654707e+00j,\n",
       "         2.72637900e+01 +4.49464302e+00j,\n",
       "         3.73129050e+01 +6.47978006e+00j,\n",
       "         6.02394884e+01 +1.10287368e+01j,\n",
       "         1.64704983e+02 +3.18222830e+01j,\n",
       "        -2.08540161e+02 -4.25721027e+01j,\n",
       "        -6.24596573e+01 -1.34921348e+01j,\n",
       "        -3.62492053e+01 -8.29998182e+00j,\n",
       "        -2.52904121e+01 -6.15059496e+00j,\n",
       "        -1.92708474e+01 -4.98979714e+00j,\n",
       "        -1.54642107e+01 -4.27511514e+00j,\n",
       "        -1.28380485e+01 -3.80176795e+00j,\n",
       "        -1.09149594e+01 -3.47582060e+00j,\n",
       "        -9.44359742e+00 -3.24871913e+00j,\n",
       "        -8.27881199e+00 -3.09353715e+00j,\n",
       "        -7.33064727e+00 -2.99500715e+00j,\n",
       "        -6.54003372e+00 -2.94497464e+00j,\n",
       "        -5.86610826e+00 -2.94034620e+00j,\n",
       "        -5.27903592e+00 -2.98244659e+00j,\n",
       "        -4.75553628e+00 -3.07749820e+00j,\n",
       "        -4.27563177e+00 -3.23850216e+00j,\n",
       "        -3.81954033e+00 -3.48963593e+00j,\n",
       "        -3.36330559e+00 -3.87630104e+00j,\n",
       "        -2.86987902e+00 -4.49024230e+00j,\n",
       "        -2.26450549e+00 -5.54359352e+00j,\n",
       "        -1.34130385e+00 -7.65476797e+00j,\n",
       "         8.37685348e-01 -1.36939029e+01j,\n",
       "         4.25257622e+01 -1.41173373e+02j,\n",
       "        -8.05768376e+00 +1.47710252e+01j,\n",
       "        -5.23138858e+00 +6.58383231e+00j,\n",
       "        -4.26289439e+00 +4.06349146e+00j,\n",
       "        -3.73118988e+00 +2.84903569e+00j,\n",
       "        -3.37435748e+00 +2.13978410e+00j,\n",
       "        -3.10740264e+00 +1.67803693e+00j,\n",
       "        -2.89414087e+00 +1.35558245e+00j,\n",
       "        -2.71637142e+00 +1.11906893e+00j,\n",
       "        -2.56382181e+00 +9.39174243e-01j,\n",
       "        -2.43017867e+00 +7.98462489e-01j,\n",
       "        -2.31129780e+00 +6.85926268e-01j,\n",
       "        -2.20431250e+00 +5.94281632e-01j,\n",
       "        -2.10715357e+00 +5.18521830e-01j,\n",
       "        -2.01827417e+00 +4.55095811e-01j,\n",
       "        -1.93648372e+00 +4.01417882e-01j,\n",
       "        -1.86084312e+00 +3.55562670e-01j,\n",
       "        -1.79059618e+00 +3.16068600e-01j,\n",
       "        -1.72512313e+00 +2.81807399e-01j,\n",
       "        -1.66390833e+00 +2.51895163e-01j,\n",
       "        -1.60651716e+00 +2.25630339e-01j,\n",
       "        -1.55257916e+00 +2.02449589e-01j,\n",
       "        -1.50177547e+00 +1.81895815e-01j,\n",
       "        -1.45382926e+00 +1.63594614e-01j,\n",
       "        -1.40849838e+00 +1.47236683e-01j,\n",
       "        -1.36556962e+00 +1.32564510e-01j,\n",
       "        -1.32485409e+00 +1.19362159e-01j,\n",
       "        -1.28618361e+00 +1.07447377e-01j,\n",
       "        -1.24940767e+00 +9.66654051e-02j,\n",
       "        -1.21439104e+00 +8.68840955e-02j,\n",
       "        -1.18101169e+00 +7.79900227e-02j,\n",
       "        -1.14915915e+00 +6.98853606e-02j,\n",
       "        -1.11873307e+00 +6.24853572e-02j,\n",
       "        -1.08964203e+00 +5.57162780e-02j,\n",
       "        -1.06180250e+00 +4.95137206e-02j,\n",
       "        -1.03513795e+00 +4.38212253e-02j,\n",
       "        -1.00957814e+00 +3.85891231e-02j,\n",
       "        -9.85058428e-01 +3.37735751e-02j,\n",
       "        -9.61519195e-01 +2.93357683e-02j,\n",
       "        -9.38905366e-01 +2.52412383e-02j,\n",
       "        -9.17165962e-01 +2.14592975e-02j,\n",
       "        -8.96253716e-01 +1.79625485e-02j,\n",
       "        -8.76124728e-01 +1.47264707e-02j,\n",
       "        -8.56738164e-01 +1.17290655e-02j,\n",
       "        -8.38055988e-01 +8.95055213e-03j,\n",
       "        -8.20042720e-01 +6.37310586e-03j,\n",
       "        -8.02665219e-01 +3.98063112e-03j,\n",
       "        -7.85892491e-01 +1.75856517e-03j,\n",
       "        -7.69695517e-01 -3.06292752e-04j,\n",
       "        -7.54047093e-01 -2.22593046e-03j,\n",
       "        -7.38921687e-01 -4.01125310e-03j,\n",
       "        -7.24295317e-01 -5.67219742e-03j,\n",
       "        -7.10145429e-01 -7.21783221e-03j,\n",
       "        -6.96450791e-01 -8.65644679e-03j,\n",
       "        -6.83191403e-01 -9.99562914e-03j,\n",
       "        -6.70348398e-01 -1.12423351e-02j,\n",
       "        -6.57903975e-01 -1.24029497e-02j,\n",
       "        -6.45841313e-01 -1.34833418e-02j,\n",
       "        -6.34144511e-01 -1.44889125e-02j,\n",
       "        -6.22798526e-01 -1.54246386e-02j,\n",
       "        -6.11789111e-01 -1.62951111e-02j,\n",
       "        -6.01102769e-01 -1.71045705e-02j,\n",
       "        -5.90726700e-01 -1.78569371e-02j,\n",
       "        -5.80648758e-01 -1.85558396e-02j,\n",
       "        -5.70857413e-01 -1.92046400e-02j,\n",
       "        -5.61341705e-01 -1.98064564e-02j,\n",
       "        -5.52091219e-01 -2.03641833e-02j,\n",
       "        -5.43096044e-01 -2.08805103e-02j,\n",
       "        -5.34346747e-01 -2.13579389e-02j,\n",
       "        -5.25834344e-01 -2.17987974e-02j,\n",
       "        -5.17550273e-01 -2.22052551e-02j,\n",
       "        -5.09486371e-01 -2.25793346e-02j,\n",
       "        -5.01634850e-01 -2.29229232e-02j,\n",
       "        -4.93988276e-01 -2.32377834e-02j,\n",
       "        -4.86539552e-01 -2.35255624e-02j,\n",
       "        -4.79281894e-01 -2.37878005e-02j,\n",
       "        -4.72208821e-01 -2.40259397e-02j,\n",
       "        -4.65314131e-01 -2.42413300e-02j,\n",
       "        -4.58591894e-01 -2.44352370e-02j,\n",
       "        -4.52036430e-01 -2.46088472e-02j,\n",
       "        -4.45642302e-01 -2.47632741e-02j,\n",
       "        -4.39404301e-01 -2.48995634e-02j,\n",
       "        -4.33317434e-01 -2.50186971e-02j,\n",
       "        -4.27376913e-01 -2.51215986e-02j,\n",
       "        -4.21578147e-01 -2.52091365e-02j,\n",
       "        -4.15916729e-01 -2.52821279e-02j,\n",
       "        -4.10388429e-01 -2.53413425e-02j,\n",
       "        -4.04989185e-01 -2.53875052e-02j,\n",
       "        -3.99715095e-01 -2.54212993e-02j,\n",
       "        -3.94562409e-01 -2.54433691e-02j,\n",
       "        -3.89527521e-01 -2.54543226e-02j,\n",
       "        -3.84606966e-01 -2.54547335e-02j,\n",
       "        -3.79797407e-01 -2.54451437e-02j,\n",
       "        -3.75095636e-01 -2.54260651e-02j,\n",
       "        -3.70498563e-01 -2.53979815e-02j,\n",
       "        -3.66003213e-01 -2.53613503e-02j,\n",
       "        -3.61606721e-01 -2.53166042e-02j,\n",
       "        -3.57306326e-01 -2.52641526e-02j,\n",
       "        -3.53099367e-01 -2.52043832e-02j,\n",
       "        -3.48983278e-01 -2.51376629e-02j,\n",
       "        -3.44955586e-01 -2.50643396e-02j,\n",
       "        -3.41013904e-01 -2.49847426e-02j,\n",
       "        -3.37155930e-01 -2.48991843e-02j,\n",
       "        -3.33379441e-01 -2.48079610e-02j,\n",
       "        -3.29682292e-01 -2.47113535e-02j,\n",
       "        -3.26062411e-01 -2.46096286e-02j,\n",
       "        -3.22517796e-01 -2.45030393e-02j,\n",
       "        -3.19046514e-01 -2.43918258e-02j,\n",
       "        -3.15646696e-01 -2.42762163e-02j,\n",
       "        -3.12316537e-01 -2.41564276e-02j,\n",
       "        -3.09054291e-01 -2.40326657e-02j,\n",
       "        -3.05858267e-01 -2.39051263e-02j,\n",
       "        -3.02726834e-01 -2.37739956e-02j,\n",
       "        -2.99658409e-01 -2.36394506e-02j,\n",
       "        -2.96651465e-01 -2.35016595e-02j,\n",
       "        -2.93704520e-01 -2.33607826e-02j,\n",
       "        -2.90816142e-01 -2.32169723e-02j,\n",
       "        -2.87984942e-01 -2.30703737e-02j,\n",
       "        -2.85209576e-01 -2.29211247e-02j,\n",
       "        -2.82488743e-01 -2.27693569e-02j,\n",
       "        -2.79821180e-01 -2.26151954e-02j,\n",
       "        -2.77205664e-01 -2.24587596e-02j,\n",
       "        -2.74641012e-01 -2.23001630e-02j,\n",
       "        -2.72126073e-01 -2.21395138e-02j,\n",
       "        -2.69659733e-01 -2.19769153e-02j,\n",
       "        -2.67240913e-01 -2.18124656e-02j,\n",
       "        -2.64868565e-01 -2.16462585e-02j,\n",
       "        -2.62541670e-01 -2.14783833e-02j,\n",
       "        -2.60259244e-01 -2.13089251e-02j,\n",
       "        -2.58020329e-01 -2.11379652e-02j,\n",
       "        -2.55823995e-01 -2.09655809e-02j,\n",
       "        -2.53669341e-01 -2.07918461e-02j,\n",
       "        -2.51555490e-01 -2.06168313e-02j,\n",
       "        -2.49481592e-01 -2.04406035e-02j,\n",
       "        -2.47446822e-01 -2.02632268e-02j,\n",
       "        -2.45450376e-01 -2.00847625e-02j,\n",
       "        -2.43491476e-01 -1.99052687e-02j,\n",
       "        -2.41569363e-01 -1.97248011e-02j,\n",
       "        -2.39683303e-01 -1.95434128e-02j,\n",
       "        -2.37832581e-01 -1.93611544e-02j,\n",
       "        -2.36016499e-01 -1.91780741e-02j,\n",
       "        -2.34234385e-01 -1.89942181e-02j,\n",
       "        -2.32485579e-01 -1.88096303e-02j,\n",
       "        -2.30769444e-01 -1.86243527e-02j,\n",
       "        -2.29085357e-01 -1.84384252e-02j,\n",
       "        -2.27432716e-01 -1.82518860e-02j,\n",
       "        -2.25810933e-01 -1.80647714e-02j,\n",
       "        -2.24219435e-01 -1.78771163e-02j,\n",
       "        -2.22657668e-01 -1.76889537e-02j,\n",
       "        -2.21125089e-01 -1.75003151e-02j,\n",
       "        -2.19621173e-01 -1.73112306e-02j,\n",
       "        -2.18145407e-01 -1.71217289e-02j,\n",
       "        -2.16697293e-01 -1.69318375e-02j,\n",
       "        -2.15276346e-01 -1.67415822e-02j,\n",
       "        -2.13882093e-01 -1.65509879e-02j,\n",
       "        -2.12514075e-01 -1.63600783e-02j,\n",
       "        -2.11171844e-01 -1.61688759e-02j,\n",
       "        -2.09854966e-01 -1.59774022e-02j,\n",
       "        -2.08563015e-01 -1.57856774e-02j,\n",
       "        -2.07295579e-01 -1.55937211e-02j,\n",
       "        -2.06052256e-01 -1.54015518e-02j,\n",
       "        -2.04832654e-01 -1.52091869e-02j,\n",
       "        -2.03636393e-01 -1.50166432e-02j,\n",
       "        -2.02463101e-01 -1.48239366e-02j,\n",
       "        -2.01312417e-01 -1.46310821e-02j,\n",
       "        -2.00183988e-01 -1.44380940e-02j,\n",
       "        -1.99077473e-01 -1.42449859e-02j,\n",
       "        -1.97992536e-01 -1.40517706e-02j,\n",
       "        -1.96928854e-01 -1.38584605e-02j,\n",
       "        -1.95886109e-01 -1.36650669e-02j,\n",
       "        -1.94863993e-01 -1.34716010e-02j,\n",
       "        -1.93862205e-01 -1.32780729e-02j,\n",
       "        -1.92880454e-01 -1.30844925e-02j,\n",
       "        -1.91918454e-01 -1.28908691e-02j,\n",
       "        -1.90975929e-01 -1.26972113e-02j,\n",
       "        -1.90052607e-01 -1.25035273e-02j,\n",
       "        -1.89148227e-01 -1.23098249e-02j,\n",
       "        -1.88262532e-01 -1.21161113e-02j,\n",
       "        -1.87395272e-01 -1.19223933e-02j,\n",
       "        -1.86546206e-01 -1.17286774e-02j,\n",
       "        -1.85715096e-01 -1.15349696e-02j,\n",
       "        -1.84901713e-01 -1.13412754e-02j,\n",
       "        -1.84105833e-01 -1.11476001e-02j,\n",
       "        -1.83327238e-01 -1.09539485e-02j,\n",
       "        -1.82565717e-01 -1.07603252e-02j,\n",
       "        -1.81821062e-01 -1.05667343e-02j,\n",
       "        -1.81093072e-01 -1.03731797e-02j,\n",
       "        -1.80381554e-01 -1.01796650e-02j,\n",
       "        -1.79686317e-01 -9.98619347e-03j,\n",
       "        -1.79007176e-01 -9.79276806e-03j,\n",
       "        -1.78343953e-01 -9.59939150e-03j,\n",
       "        -1.77696471e-01 -9.40606626e-03j,\n",
       "        -1.77064563e-01 -9.21279455e-03j,\n",
       "        -1.76448062e-01 -9.01957834e-03j,\n",
       "        -1.75846810e-01 -8.82641937e-03j,\n",
       "        -1.75260650e-01 -8.63331918e-03j,\n",
       "        -1.74689433e-01 -8.44027907e-03j,\n",
       "        -1.74133011e-01 -8.24730016e-03j,\n",
       "        -1.73591242e-01 -8.05438336e-03j,\n",
       "        -1.73063989e-01 -7.86152941e-03j,\n",
       "        -1.72551118e-01 -7.66873886e-03j,\n",
       "        -1.72052500e-01 -7.47601209e-03j,\n",
       "        -1.71568009e-01 -7.28334933e-03j,\n",
       "        -1.71097524e-01 -7.09075063e-03j,\n",
       "        -1.70640928e-01 -6.89821592e-03j,\n",
       "        -1.70198106e-01 -6.70574495e-03j,\n",
       "        -1.69768949e-01 -6.51333737e-03j,\n",
       "        -1.69353352e-01 -6.32099267e-03j,\n",
       "        -1.68951211e-01 -6.12871022e-03j,\n",
       "        -1.68562427e-01 -5.93648928e-03j,\n",
       "        -1.68186906e-01 -5.74432899e-03j,\n",
       "        -1.67824556e-01 -5.55222837e-03j,\n",
       "        -1.67475288e-01 -5.36018636e-03j,\n",
       "        -1.67139017e-01 -5.16820177e-03j,\n",
       "        -1.66815663e-01 -4.97627333e-03j,\n",
       "        -1.66505147e-01 -4.78439968e-03j,\n",
       "        -1.66207393e-01 -4.59257938e-03j,\n",
       "        -1.65922331e-01 -4.40081089e-03j,\n",
       "        -1.65649891e-01 -4.20909261e-03j,\n",
       "        -1.65390010e-01 -4.01742285e-03j,\n",
       "        -1.65142623e-01 -3.82579986e-03j,\n",
       "        -1.64907673e-01 -3.63422183e-03j,\n",
       "        -1.64685104e-01 -3.44268688e-03j,\n",
       "        -1.64474862e-01 -3.25119306e-03j,\n",
       "        -1.64276897e-01 -3.05973839e-03j,\n",
       "        -1.64091163e-01 -2.86832083e-03j,\n",
       "        -1.63917616e-01 -2.67693827e-03j,\n",
       "        -1.63756214e-01 -2.48558859e-03j,\n",
       "        -1.63606920e-01 -2.29426960e-03j,\n",
       "        -1.63469698e-01 -2.10297909e-03j,\n",
       "        -1.63344516e-01 -1.91171481e-03j,\n",
       "        -1.63231345e-01 -1.72047446e-03j,\n",
       "        -1.63130158e-01 -1.52925575e-03j,\n",
       "        -1.63040931e-01 -1.33805633e-03j,\n",
       "        -1.62963643e-01 -1.14687384e-03j,\n",
       "        -1.62898276e-01 -9.55705893e-04j,\n",
       "        -1.62844815e-01 -7.64550098e-04j,\n",
       "        -1.62803247e-01 -5.73404039e-04j,\n",
       "        -1.62773562e-01 -3.82265293e-04j,\n",
       "        -1.62755755e-01 -1.91131426e-04j,\n",
       "        -1.62749819e-01 +4.97379915e-14j,\n",
       "        -1.62755755e-01 +1.91131426e-04j,\n",
       "        -1.62773562e-01 +3.82265293e-04j,\n",
       "        -1.62803247e-01 +5.73404039e-04j,\n",
       "        -1.62844815e-01 +7.64550098e-04j,\n",
       "        -1.62898276e-01 +9.55705893e-04j,\n",
       "        -1.62963643e-01 +1.14687384e-03j,\n",
       "        -1.63040931e-01 +1.33805633e-03j,\n",
       "        -1.63130158e-01 +1.52925575e-03j,\n",
       "        -1.63231345e-01 +1.72047446e-03j,\n",
       "        -1.63344516e-01 +1.91171481e-03j,\n",
       "        -1.63469698e-01 +2.10297909e-03j,\n",
       "        -1.63606920e-01 +2.29426960e-03j,\n",
       "        -1.63756214e-01 +2.48558859e-03j,\n",
       "        -1.63917616e-01 +2.67693827e-03j,\n",
       "        -1.64091163e-01 +2.86832083e-03j,\n",
       "        -1.64276897e-01 +3.05973839e-03j,\n",
       "        -1.64474862e-01 +3.25119306e-03j,\n",
       "        -1.64685104e-01 +3.44268688e-03j,\n",
       "        -1.64907673e-01 +3.63422183e-03j,\n",
       "        -1.65142623e-01 +3.82579986e-03j,\n",
       "        -1.65390010e-01 +4.01742285e-03j,\n",
       "        -1.65649891e-01 +4.20909261e-03j,\n",
       "        -1.65922331e-01 +4.40081089e-03j,\n",
       "        -1.66207393e-01 +4.59257938e-03j,\n",
       "        -1.66505147e-01 +4.78439968e-03j,\n",
       "        -1.66815663e-01 +4.97627333e-03j,\n",
       "        -1.67139017e-01 +5.16820177e-03j,\n",
       "        -1.67475288e-01 +5.36018636e-03j,\n",
       "        -1.67824556e-01 +5.55222837e-03j,\n",
       "        -1.68186906e-01 +5.74432899e-03j,\n",
       "        -1.68562427e-01 +5.93648928e-03j,\n",
       "        -1.68951211e-01 +6.12871022e-03j,\n",
       "        -1.69353352e-01 +6.32099267e-03j,\n",
       "        -1.69768949e-01 +6.51333737e-03j,\n",
       "        -1.70198106e-01 +6.70574495e-03j,\n",
       "        -1.70640928e-01 +6.89821592e-03j,\n",
       "        -1.71097524e-01 +7.09075063e-03j,\n",
       "        -1.71568009e-01 +7.28334933e-03j,\n",
       "        -1.72052500e-01 +7.47601209e-03j,\n",
       "        -1.72551118e-01 +7.66873886e-03j,\n",
       "        -1.73063989e-01 +7.86152941e-03j,\n",
       "        -1.73591242e-01 +8.05438336e-03j,\n",
       "        -1.74133011e-01 +8.24730016e-03j,\n",
       "        -1.74689433e-01 +8.44027907e-03j,\n",
       "        -1.75260650e-01 +8.63331918e-03j,\n",
       "        -1.75846810e-01 +8.82641937e-03j,\n",
       "        -1.76448062e-01 +9.01957834e-03j,\n",
       "        -1.77064563e-01 +9.21279455e-03j,\n",
       "        -1.77696471e-01 +9.40606626e-03j,\n",
       "        -1.78343953e-01 +9.59939150e-03j,\n",
       "        -1.79007176e-01 +9.79276806e-03j,\n",
       "        -1.79686317e-01 +9.98619347e-03j,\n",
       "        -1.80381554e-01 +1.01796650e-02j,\n",
       "        -1.81093072e-01 +1.03731797e-02j,\n",
       "        -1.81821062e-01 +1.05667343e-02j,\n",
       "        -1.82565717e-01 +1.07603252e-02j,\n",
       "        -1.83327238e-01 +1.09539485e-02j,\n",
       "        -1.84105833e-01 +1.11476001e-02j,\n",
       "        -1.84901713e-01 +1.13412754e-02j,\n",
       "        -1.85715096e-01 +1.15349696e-02j,\n",
       "        -1.86546206e-01 +1.17286774e-02j,\n",
       "        -1.87395272e-01 +1.19223933e-02j,\n",
       "        -1.88262532e-01 +1.21161113e-02j,\n",
       "        -1.89148227e-01 +1.23098249e-02j,\n",
       "        -1.90052607e-01 +1.25035273e-02j,\n",
       "        -1.90975929e-01 +1.26972113e-02j,\n",
       "        -1.91918454e-01 +1.28908691e-02j,\n",
       "        -1.92880454e-01 +1.30844925e-02j,\n",
       "        -1.93862205e-01 +1.32780729e-02j,\n",
       "        -1.94863993e-01 +1.34716010e-02j,\n",
       "        -1.95886109e-01 +1.36650669e-02j,\n",
       "        -1.96928854e-01 +1.38584605e-02j,\n",
       "        -1.97992536e-01 +1.40517706e-02j,\n",
       "        -1.99077473e-01 +1.42449859e-02j,\n",
       "        -2.00183988e-01 +1.44380940e-02j,\n",
       "        -2.01312417e-01 +1.46310821e-02j,\n",
       "        -2.02463101e-01 +1.48239366e-02j,\n",
       "        -2.03636393e-01 +1.50166432e-02j,\n",
       "        -2.04832654e-01 +1.52091869e-02j,\n",
       "        -2.06052256e-01 +1.54015518e-02j,\n",
       "        -2.07295579e-01 +1.55937211e-02j,\n",
       "        -2.08563015e-01 +1.57856774e-02j,\n",
       "        -2.09854966e-01 +1.59774022e-02j,\n",
       "        -2.11171844e-01 +1.61688759e-02j,\n",
       "        -2.12514075e-01 +1.63600783e-02j,\n",
       "        -2.13882093e-01 +1.65509879e-02j,\n",
       "        -2.15276346e-01 +1.67415822e-02j,\n",
       "        -2.16697293e-01 +1.69318375e-02j,\n",
       "        -2.18145407e-01 +1.71217289e-02j,\n",
       "        -2.19621173e-01 +1.73112306e-02j,\n",
       "        -2.21125089e-01 +1.75003151e-02j,\n",
       "        -2.22657668e-01 +1.76889537e-02j,\n",
       "        -2.24219435e-01 +1.78771163e-02j,\n",
       "        -2.25810933e-01 +1.80647714e-02j,\n",
       "        -2.27432716e-01 +1.82518860e-02j,\n",
       "        -2.29085357e-01 +1.84384252e-02j,\n",
       "        -2.30769444e-01 +1.86243527e-02j,\n",
       "        -2.32485579e-01 +1.88096303e-02j,\n",
       "        -2.34234385e-01 +1.89942181e-02j,\n",
       "        -2.36016499e-01 +1.91780741e-02j,\n",
       "        -2.37832581e-01 +1.93611544e-02j,\n",
       "        -2.39683303e-01 +1.95434128e-02j,\n",
       "        -2.41569363e-01 +1.97248011e-02j,\n",
       "        -2.43491476e-01 +1.99052687e-02j,\n",
       "        -2.45450376e-01 +2.00847625e-02j,\n",
       "        -2.47446822e-01 +2.02632268e-02j,\n",
       "        -2.49481592e-01 +2.04406035e-02j,\n",
       "        -2.51555490e-01 +2.06168313e-02j,\n",
       "        -2.53669341e-01 +2.07918461e-02j,\n",
       "        -2.55823995e-01 +2.09655809e-02j,\n",
       "        -2.58020329e-01 +2.11379652e-02j,\n",
       "        -2.60259244e-01 +2.13089251e-02j,\n",
       "        -2.62541670e-01 +2.14783833e-02j,\n",
       "        -2.64868565e-01 +2.16462585e-02j,\n",
       "        -2.67240913e-01 +2.18124656e-02j,\n",
       "        -2.69659733e-01 +2.19769153e-02j,\n",
       "        -2.72126073e-01 +2.21395138e-02j,\n",
       "        -2.74641012e-01 +2.23001630e-02j,\n",
       "        -2.77205664e-01 +2.24587596e-02j,\n",
       "        -2.79821180e-01 +2.26151954e-02j,\n",
       "        -2.82488743e-01 +2.27693569e-02j,\n",
       "        -2.85209576e-01 +2.29211247e-02j,\n",
       "        -2.87984942e-01 +2.30703737e-02j,\n",
       "        -2.90816142e-01 +2.32169723e-02j,\n",
       "        -2.93704520e-01 +2.33607826e-02j,\n",
       "        -2.96651465e-01 +2.35016595e-02j,\n",
       "        -2.99658409e-01 +2.36394506e-02j,\n",
       "        -3.02726834e-01 +2.37739956e-02j,\n",
       "        -3.05858267e-01 +2.39051263e-02j,\n",
       "        -3.09054291e-01 +2.40326657e-02j,\n",
       "        -3.12316537e-01 +2.41564276e-02j,\n",
       "        -3.15646696e-01 +2.42762163e-02j,\n",
       "        -3.19046514e-01 +2.43918258e-02j,\n",
       "        -3.22517796e-01 +2.45030393e-02j,\n",
       "        -3.26062411e-01 +2.46096286e-02j,\n",
       "        -3.29682292e-01 +2.47113535e-02j,\n",
       "        -3.33379441e-01 +2.48079610e-02j,\n",
       "        -3.37155930e-01 +2.48991843e-02j,\n",
       "        -3.41013904e-01 +2.49847426e-02j,\n",
       "        -3.44955586e-01 +2.50643396e-02j,\n",
       "        -3.48983278e-01 +2.51376629e-02j,\n",
       "        -3.53099367e-01 +2.52043832e-02j,\n",
       "        -3.57306326e-01 +2.52641526e-02j,\n",
       "        -3.61606721e-01 +2.53166042e-02j,\n",
       "        -3.66003213e-01 +2.53613503e-02j,\n",
       "        -3.70498563e-01 +2.53979815e-02j,\n",
       "        -3.75095636e-01 +2.54260651e-02j,\n",
       "        -3.79797407e-01 +2.54451437e-02j,\n",
       "        -3.84606966e-01 +2.54547335e-02j,\n",
       "        -3.89527521e-01 +2.54543226e-02j,\n",
       "        -3.94562409e-01 +2.54433691e-02j,\n",
       "        -3.99715095e-01 +2.54212993e-02j,\n",
       "        -4.04989185e-01 +2.53875052e-02j,\n",
       "        -4.10388429e-01 +2.53413425e-02j,\n",
       "        -4.15916729e-01 +2.52821279e-02j,\n",
       "        -4.21578147e-01 +2.52091365e-02j,\n",
       "        -4.27376913e-01 +2.51215986e-02j,\n",
       "        -4.33317434e-01 +2.50186971e-02j,\n",
       "        -4.39404301e-01 +2.48995634e-02j,\n",
       "        -4.45642302e-01 +2.47632741e-02j,\n",
       "        -4.52036430e-01 +2.46088472e-02j,\n",
       "        -4.58591894e-01 +2.44352370e-02j,\n",
       "        -4.65314131e-01 +2.42413300e-02j,\n",
       "        -4.72208821e-01 +2.40259397e-02j,\n",
       "        -4.79281894e-01 +2.37878005e-02j,\n",
       "        -4.86539552e-01 +2.35255624e-02j,\n",
       "        -4.93988276e-01 +2.32377834e-02j,\n",
       "        -5.01634850e-01 +2.29229232e-02j,\n",
       "        -5.09486371e-01 +2.25793346e-02j,\n",
       "        -5.17550273e-01 +2.22052551e-02j,\n",
       "        -5.25834344e-01 +2.17987974e-02j,\n",
       "        -5.34346747e-01 +2.13579389e-02j,\n",
       "        -5.43096044e-01 +2.08805103e-02j,\n",
       "        -5.52091219e-01 +2.03641833e-02j,\n",
       "        -5.61341705e-01 +1.98064564e-02j,\n",
       "        -5.70857413e-01 +1.92046400e-02j,\n",
       "        -5.80648758e-01 +1.85558396e-02j,\n",
       "        -5.90726700e-01 +1.78569371e-02j,\n",
       "        -6.01102769e-01 +1.71045705e-02j,\n",
       "        -6.11789111e-01 +1.62951111e-02j,\n",
       "        -6.22798526e-01 +1.54246386e-02j,\n",
       "        -6.34144511e-01 +1.44889125e-02j,\n",
       "        -6.45841313e-01 +1.34833418e-02j,\n",
       "        -6.57903975e-01 +1.24029497e-02j,\n",
       "        -6.70348398e-01 +1.12423351e-02j,\n",
       "        -6.83191403e-01 +9.99562914e-03j,\n",
       "        -6.96450791e-01 +8.65644679e-03j,\n",
       "        -7.10145429e-01 +7.21783221e-03j,\n",
       "        -7.24295317e-01 +5.67219742e-03j,\n",
       "        -7.38921687e-01 +4.01125310e-03j,\n",
       "        -7.54047093e-01 +2.22593046e-03j,\n",
       "        -7.69695517e-01 +3.06292752e-04j,\n",
       "        -7.85892491e-01 -1.75856517e-03j,\n",
       "        -8.02665219e-01 -3.98063112e-03j,\n",
       "        -8.20042720e-01 -6.37310586e-03j,\n",
       "        -8.38055988e-01 -8.95055213e-03j,\n",
       "        -8.56738164e-01 -1.17290655e-02j,\n",
       "        -8.76124728e-01 -1.47264707e-02j,\n",
       "        -8.96253716e-01 -1.79625485e-02j,\n",
       "        -9.17165962e-01 -2.14592975e-02j,\n",
       "        -9.38905366e-01 -2.52412383e-02j,\n",
       "        -9.61519195e-01 -2.93357683e-02j,\n",
       "        -9.85058428e-01 -3.37735751e-02j,\n",
       "        -1.00957814e+00 -3.85891231e-02j,\n",
       "        -1.03513795e+00 -4.38212253e-02j,\n",
       "        -1.06180250e+00 -4.95137206e-02j,\n",
       "        -1.08964203e+00 -5.57162780e-02j,\n",
       "        -1.11873307e+00 -6.24853572e-02j,\n",
       "        -1.14915915e+00 -6.98853606e-02j,\n",
       "        -1.18101169e+00 -7.79900227e-02j,\n",
       "        -1.21439104e+00 -8.68840955e-02j,\n",
       "        -1.24940767e+00 -9.66654051e-02j,\n",
       "        -1.28618361e+00 -1.07447377e-01j,\n",
       "        -1.32485409e+00 -1.19362159e-01j,\n",
       "        -1.36556962e+00 -1.32564510e-01j,\n",
       "        -1.40849838e+00 -1.47236683e-01j,\n",
       "        -1.45382926e+00 -1.63594614e-01j,\n",
       "        -1.50177547e+00 -1.81895815e-01j,\n",
       "        -1.55257916e+00 -2.02449589e-01j,\n",
       "        -1.60651716e+00 -2.25630339e-01j,\n",
       "        -1.66390833e+00 -2.51895163e-01j,\n",
       "        -1.72512313e+00 -2.81807399e-01j,\n",
       "        -1.79059618e+00 -3.16068600e-01j,\n",
       "        -1.86084312e+00 -3.55562670e-01j,\n",
       "        -1.93648372e+00 -4.01417882e-01j,\n",
       "        -2.01827417e+00 -4.55095811e-01j,\n",
       "        -2.10715357e+00 -5.18521830e-01j,\n",
       "        -2.20431250e+00 -5.94281632e-01j,\n",
       "        -2.31129780e+00 -6.85926268e-01j,\n",
       "        -2.43017867e+00 -7.98462489e-01j,\n",
       "        -2.56382181e+00 -9.39174243e-01j,\n",
       "        -2.71637142e+00 -1.11906893e+00j,\n",
       "        -2.89414087e+00 -1.35558245e+00j,\n",
       "        -3.10740264e+00 -1.67803693e+00j,\n",
       "        -3.37435748e+00 -2.13978410e+00j,\n",
       "        -3.73118988e+00 -2.84903569e+00j,\n",
       "        -4.26289439e+00 -4.06349146e+00j,\n",
       "        -5.23138858e+00 -6.58383231e+00j,\n",
       "        -8.05768376e+00 -1.47710252e+01j,\n",
       "         4.25257622e+01 +1.41173373e+02j,\n",
       "         8.37685348e-01 +1.36939029e+01j,\n",
       "        -1.34130385e+00 +7.65476797e+00j,\n",
       "        -2.26450549e+00 +5.54359352e+00j,\n",
       "        -2.86987902e+00 +4.49024230e+00j,\n",
       "        -3.36330559e+00 +3.87630104e+00j,\n",
       "        -3.81954033e+00 +3.48963593e+00j,\n",
       "        -4.27563177e+00 +3.23850216e+00j,\n",
       "        -4.75553628e+00 +3.07749820e+00j,\n",
       "        -5.27903592e+00 +2.98244659e+00j,\n",
       "        -5.86610826e+00 +2.94034620e+00j,\n",
       "        -6.54003372e+00 +2.94497464e+00j,\n",
       "        -7.33064727e+00 +2.99500715e+00j,\n",
       "        -8.27881199e+00 +3.09353715e+00j,\n",
       "        -9.44359742e+00 +3.24871913e+00j,\n",
       "        -1.09149594e+01 +3.47582060e+00j,\n",
       "        -1.28380485e+01 +3.80176795e+00j,\n",
       "        -1.54642107e+01 +4.27511514e+00j,\n",
       "        -1.92708474e+01 +4.98979714e+00j,\n",
       "        -2.52904121e+01 +6.15059496e+00j,\n",
       "        -3.62492053e+01 +8.29998182e+00j,\n",
       "        -6.24596573e+01 +1.34921348e+01j,\n",
       "        -2.08540161e+02 +4.25721027e+01j,\n",
       "         1.64704983e+02 -3.18222830e+01j,\n",
       "         6.02394884e+01 -1.10287368e+01j,\n",
       "         3.73129050e+01 -6.47978006e+00j,\n",
       "         2.72637900e+01 -4.49464302e+00j,\n",
       "         2.16256208e+01 -3.38654707e+00j,\n",
       "         1.80200257e+01 -2.68176653e+00j,\n",
       "         1.55182728e+01 -2.19539582e+00j,\n",
       "         1.36828486e+01 -1.84038504e+00j,\n",
       "         1.22806216e+01 -1.57039027e+00j,\n",
       "         1.11759808e+01 -1.35848357e+00j,\n",
       "         1.02846740e+01 -1.18795747e+00j,\n",
       "         9.55160140e+00 -1.04790190e+00j,\n",
       "         8.93921412e+00 -9.30894093e-01j,\n",
       "         8.42104552e+00 -8.31710827e-01j,\n",
       "         7.97790757e+00 -7.46571562e-01j,\n",
       "         7.59555366e+00 -6.72673554e-01j,\n",
       "         7.26318819e+00 -6.07895550e-01j,\n",
       "         6.97248531e+00 -5.50602829e-01j,\n",
       "         6.71692495e+00 -4.99515348e-01j,\n",
       "         6.49133260e+00 -4.53616393e-01j,\n",
       "         6.29155338e+00 -4.12087934e-01j,\n",
       "         6.11421699e+00 -3.74263994e-01j,\n",
       "         5.95656529e+00 -3.39596440e-01j,\n",
       "         5.81632388e+00 -3.07629499e-01j,\n",
       "         5.69160519e+00 -2.77980487e-01j,\n",
       "         5.58083459e+00 -2.50325064e-01j,\n",
       "         5.48269321e+00 -2.24385797e-01j,\n",
       "         5.39607361e+00 -1.99923191e-01j,\n",
       "         5.32004482e+00 -1.76728575e-01j,\n",
       "         5.25382487e+00 -1.54618391e-01j,\n",
       "         5.19675891e+00 -1.33429560e-01j,\n",
       "         5.14830193e+00 -1.13015676e-01j,\n",
       "         5.10800492e+00 -9.32438355e-02j,\n",
       "         5.07550400e+00 -7.39919578e-02j,\n",
       "         5.05051196e+00 -5.51464880e-02j,\n",
       "         5.03281167e+00 -3.66003826e-02j,   5.02225132e+00 -1.82513100e-02j])"
      ]
     },
     "execution_count": 37,
     "metadata": {},
     "output_type": "execute_result"
    }
   ],
   "source": [
    "Y"
   ]
  },
  {
   "cell_type": "markdown",
   "metadata": {},
   "source": [
    "##  First Order System"
   ]
  },
  {
   "cell_type": "code",
   "execution_count": 8,
   "metadata": {
    "collapsed": true
   },
   "outputs": [],
   "source": [
    "K = 1\n",
    "tau = 1\n",
    "dT = 1e-2"
   ]
  },
  {
   "cell_type": "code",
   "execution_count": 9,
   "metadata": {},
   "outputs": [
    {
     "data": {
      "text/plain": [
       "TransferFunctionContinuous(\n",
       "array([ 1.]),\n",
       "array([ 1.,  1.]),\n",
       "dt: None\n",
       ")"
      ]
     },
     "execution_count": 9,
     "metadata": {},
     "output_type": "execute_result"
    }
   ],
   "source": [
    "sys2 = signal.lti(K, [tau, 1])\n",
    "sys2"
   ]
  },
  {
   "cell_type": "code",
   "execution_count": 10,
   "metadata": {
    "collapsed": true
   },
   "outputs": [],
   "source": [
    "T = np.arange(0, tau*10, dT)"
   ]
  },
  {
   "cell_type": "code",
   "execution_count": 11,
   "metadata": {
    "collapsed": true
   },
   "outputs": [],
   "source": [
    "T2b, Y2b = signal.step2(sys2, T=T)"
   ]
  },
  {
   "cell_type": "code",
   "execution_count": 12,
   "metadata": {
    "collapsed": true
   },
   "outputs": [],
   "source": [
    "import matplotlib\n",
    "%matplotlib inline"
   ]
  },
  {
   "cell_type": "code",
   "execution_count": 13,
   "metadata": {
    "scrolled": true
   },
   "outputs": [
    {
     "data": {
      "text/plain": [
       "[<matplotlib.lines.Line2D at 0x7fd3ec835d30>]"
      ]
     },
     "execution_count": 13,
     "metadata": {},
     "output_type": "execute_result"
    },
    {
     "data": {
      "image/png": "[encoded data removed]",
      "text/plain": [
       "<matplotlib.figure.Figure at 0x7fd3f7d2b438>"
      ]
     },
     "metadata": {},
     "output_type": "display_data"
    }
   ],
   "source": [
    "matplotlib.pyplot.plot(T2b,Y2b)"
   ]
  },
  {
   "cell_type": "code",
   "execution_count": null,
   "metadata": {
    "collapsed": true
   },
   "outputs": [],
   "source": []
  },
  {
   "cell_type": "code",
   "execution_count": null,
   "metadata": {
    "collapsed": true
   },
   "outputs": [],
   "source": []
  },
  {
   "cell_type": "code",
   "execution_count": null,
   "metadata": {
    "collapsed": true
   },
   "outputs": [],
   "source": []
  },
  {
   "cell_type": "code",
   "execution_count": null,
   "metadata": {
    "collapsed": true
   },
   "outputs": [],
   "source": []
  },
  {
   "cell_type": "code",
   "execution_count": null,
   "metadata": {
    "collapsed": true
   },
   "outputs": [],
   "source": []
  },
  {
   "cell_type": "code",
   "execution_count": null,
   "metadata": {
    "collapsed": true
   },
   "outputs": [],
   "source": []
  },
  {
   "cell_type": "code",
   "execution_count": null,
   "metadata": {
    "collapsed": true
   },
   "outputs": [],
   "source": []
  },
  {
   "cell_type": "code",
   "execution_count": null,
   "metadata": {
    "collapsed": true
   },
   "outputs": [],
   "source": []
  },
  {
   "cell_type": "code",
   "execution_count": null,
   "metadata": {
    "collapsed": true
   },
   "outputs": [],
   "source": []
  },
  {
   "cell_type": "code",
   "execution_count": null,
   "metadata": {
    "collapsed": true
   },
   "outputs": [],
   "source": []
  },
  {
   "cell_type": "code",
   "execution_count": null,
   "metadata": {
    "collapsed": true
   },
   "outputs": [],
   "source": []
  },
  {
   "cell_type": "code",
   "execution_count": null,
   "metadata": {
    "collapsed": true
   },
   "outputs": [],
   "source": []
  },
  {
   "cell_type": "code",
   "execution_count": null,
   "metadata": {
    "collapsed": true
   },
   "outputs": [],
   "source": []
  },
  {
   "cell_type": "code",
   "execution_count": null,
   "metadata": {
    "collapsed": true
   },
   "outputs": [],
   "source": []
  },
  {
   "cell_type": "code",
   "execution_count": null,
   "metadata": {
    "collapsed": true
   },
   "outputs": [],
   "source": []
  },
  {
   "cell_type": "markdown",
   "metadata": {},
   "source": [
    "### Part 2: Analyze Fake Data"
   ]
  },
  {
   "cell_type": "code",
   "execution_count": 34,
   "metadata": {
    "collapsed": true
   },
   "outputs": [],
   "source": [
    "def stepID1(T, X, Y):\n",
    "    X_0 = X[0]\n",
    "    X_final = X[-1]\n",
    "\n",
    "    Y_0 = Y[0]\n",
    "    Y_final = Y[-1]\n",
    "    tau_est = list()\n",
    "\n",
    "    K_est = (Y_final-Y_0) / (X_final - X_0)\n",
    "\n",
    "    for i in range(1,4):\n",
    "        Y_ = (1-np.exp(-i))*(Y_final-Y_0)\n",
    "        idx1 = np.where(Y_>=Y1)[0][-1]\n",
    "        idx2 = np.where(Y_<=Y1)[0][0]\n",
    "\n",
    "        tau_est.append(T[idx1]/i)\n",
    "        tau_est.append(T[idx2]/i)\n",
    "    #print(tau_est)\n",
    "    tau_est = np.mean(tau_est)\n",
    "\n",
    "    return K_est, tau_est"
   ]
  },
  {
   "cell_type": "code",
   "execution_count": 35,
   "metadata": {},
   "outputs": [
    {
     "ename": "IndexError",
     "evalue": "index 159956 is out of bounds for axis 0 with size 125664",
     "output_type": "error",
     "traceback": [
      "\u001b[0;31m---------------------------------------------------------------------------\u001b[0m",
      "\u001b[0;31mIndexError\u001b[0m                                Traceback (most recent call last)",
      "\u001b[0;32m<ipython-input-35-255b963a1bec>\u001b[0m in \u001b[0;36m<module>\u001b[0;34m()\u001b[0m\n\u001b[0;32m----> 1\u001b[0;31m \u001b[0mstepID1\u001b[0m\u001b[0;34m(\u001b[0m\u001b[0mT\u001b[0m\u001b[0;34m,\u001b[0m \u001b[0mX\u001b[0m\u001b[0;34m,\u001b[0m \u001b[0mY1\u001b[0m\u001b[0;34m)\u001b[0m\u001b[0;34m\u001b[0m\u001b[0m\n\u001b[0m",
      "\u001b[0;32m<ipython-input-34-cb036947e651>\u001b[0m in \u001b[0;36mstepID1\u001b[0;34m(T, X, Y)\u001b[0m\n\u001b[1;32m     14\u001b[0m         \u001b[0midx2\u001b[0m \u001b[0;34m=\u001b[0m \u001b[0mnp\u001b[0m\u001b[0;34m.\u001b[0m\u001b[0mwhere\u001b[0m\u001b[0;34m(\u001b[0m\u001b[0mY_\u001b[0m\u001b[0;34m<=\u001b[0m\u001b[0mY1\u001b[0m\u001b[0;34m)\u001b[0m\u001b[0;34m[\u001b[0m\u001b[0;36m0\u001b[0m\u001b[0;34m]\u001b[0m\u001b[0;34m[\u001b[0m\u001b[0;36m0\u001b[0m\u001b[0;34m]\u001b[0m\u001b[0;34m\u001b[0m\u001b[0m\n\u001b[1;32m     15\u001b[0m \u001b[0;34m\u001b[0m\u001b[0m\n\u001b[0;32m---> 16\u001b[0;31m         \u001b[0mtau_est\u001b[0m\u001b[0;34m.\u001b[0m\u001b[0mappend\u001b[0m\u001b[0;34m(\u001b[0m\u001b[0mT\u001b[0m\u001b[0;34m[\u001b[0m\u001b[0midx1\u001b[0m\u001b[0;34m]\u001b[0m\u001b[0;34m/\u001b[0m\u001b[0mi\u001b[0m\u001b[0;34m)\u001b[0m\u001b[0;34m\u001b[0m\u001b[0m\n\u001b[0m\u001b[1;32m     17\u001b[0m         \u001b[0mtau_est\u001b[0m\u001b[0;34m.\u001b[0m\u001b[0mappend\u001b[0m\u001b[0;34m(\u001b[0m\u001b[0mT\u001b[0m\u001b[0;34m[\u001b[0m\u001b[0midx2\u001b[0m\u001b[0;34m]\u001b[0m\u001b[0;34m/\u001b[0m\u001b[0mi\u001b[0m\u001b[0;34m)\u001b[0m\u001b[0;34m\u001b[0m\u001b[0m\n\u001b[1;32m     18\u001b[0m     \u001b[0;31m#print(tau_est)\u001b[0m\u001b[0;34m\u001b[0m\u001b[0;34m\u001b[0m\u001b[0m\n",
      "\u001b[0;31mIndexError\u001b[0m: index 159956 is out of bounds for axis 0 with size 125664"
     ]
    }
   ],
   "source": [
    "stepID1(T, X, Y1)"
   ]
  },
  {
   "cell_type": "code",
   "execution_count": 32,
   "metadata": {
    "collapsed": true
   },
   "outputs": [],
   "source": [
    "T_, Y_, xout = signal.lsim(sys2, U=Y, T=T, X0=X[0])"
   ]
  },
  {
   "cell_type": "code",
   "execution_count": null,
   "metadata": {
    "collapsed": true
   },
   "outputs": [],
   "source": []
  },
  {
   "cell_type": "code",
   "execution_count": 33,
   "metadata": {
    "collapsed": true
   },
   "outputs": [],
   "source": [
    "plot = matplotlib.pyplot.plot"
   ]
  },
  {
   "cell_type": "code",
   "execution_count": null,
   "metadata": {
    "collapsed": true
   },
   "outputs": [],
   "source": []
  },
  {
   "cell_type": "code",
   "execution_count": null,
   "metadata": {
    "collapsed": true
   },
   "outputs": [],
   "source": []
  },
  {
   "cell_type": "code",
   "execution_count": 29,
   "metadata": {
    "scrolled": true
   },
   "outputs": [
    {
     "data": {
      "text/plain": [
       "[<matplotlib.lines.Line2D at 0x7f7a95149160>,\n",
       " <matplotlib.lines.Line2D at 0x7f7a95149b70>]"
      ]
     },
     "execution_count": 29,
     "metadata": {},
     "output_type": "execute_result"
    },
    {
     "data": {
      "image/png": "[encoded data removed]",
      "text/plain": [
       "<matplotlib.figure.Figure at 0x7f7a951ba4e0>"
      ]
     },
     "metadata": {},
     "output_type": "display_data"
    }
   ],
   "source": [
    "cycles = 10 # Number of cycles to generate\n",
    "f=2*10e-3 # Hz\n",
    "\n",
    "T=np.arange(0,cycles/f,1e-2)\n",
    "w = 2*np.pi*f\n",
    "Y=np.sin(w*T)\n",
    "T_, Y_, xout = signal.lsim(sys2, U=Y, T=T, X0=Y[0])\n",
    "plot(T,Y,T_,Y_)"
   ]
  },
  {
   "cell_type": "code",
   "execution_count": 30,
   "metadata": {
    "collapsed": true
   },
   "outputs": [],
   "source": [
    "t0=np.where(8/f<=T)[0][0]"
   ]
  },
  {
   "cell_type": "code",
   "execution_count": 31,
   "metadata": {},
   "outputs": [
    {
     "data": {
      "text/plain": [
       "[<matplotlib.lines.Line2D at 0x7f7a950a86a0>,\n",
       " <matplotlib.lines.Line2D at 0x7f7a950a8fd0>]"
      ]
     },
     "execution_count": 31,
     "metadata": {},
     "output_type": "execute_result"
    },
    {
     "data": {
      "image/png": "[encoded data removed]",
      "text/plain": [
       "<matplotlib.figure.Figure at 0x7f7a9522a550>"
      ]
     },
     "metadata": {},
     "output_type": "display_data"
    }
   ],
   "source": [
    "plot(T[t0:],Y[t0:],T_[t0:],Y_[t0:])"
   ]
  },
  {
   "cell_type": "code",
   "execution_count": 32,
   "metadata": {
    "collapsed": true
   },
   "outputs": [],
   "source": [
    "from scipy.optimize import minimize, rosen, rosen_der"
   ]
  },
  {
   "cell_type": "code",
   "execution_count": null,
   "metadata": {
    "collapsed": true
   },
   "outputs": [],
   "source": []
  },
  {
   "cell_type": "code",
   "execution_count": 33,
   "metadata": {},
   "outputs": [
    {
     "data": {
      "text/plain": [
       "2.75"
      ]
     },
     "execution_count": 33,
     "metadata": {},
     "output_type": "execute_result"
    }
   ],
   "source": [
    "np.sum((np.array([0,1,2])- np.array([0.5,1.5,0.5]))**2)"
   ]
  },
  {
   "cell_type": "code",
   "execution_count": 34,
   "metadata": {
    "collapsed": true
   },
   "outputs": [],
   "source": [
    "def func(T, A, Phase):\n",
    "    return A*np.sin(w*T+Phase)\n",
    "\n",
    "import scipy.optimize as optimization"
   ]
  },
  {
   "cell_type": "code",
   "execution_count": 35,
   "metadata": {
    "collapsed": true
   },
   "outputs": [],
   "source": [
    "x0 = [1, 0]"
   ]
  },
  {
   "cell_type": "code",
   "execution_count": 36,
   "metadata": {
    "collapsed": true
   },
   "outputs": [],
   "source": [
    "xdata=T_[t0:]-T_[t0]\n",
    "ydata=Y_[t0:]"
   ]
  },
  {
   "cell_type": "code",
   "execution_count": 37,
   "metadata": {
    "collapsed": true
   },
   "outputs": [],
   "source": [
    "(Gain, Phase), B = optimization.curve_fit(func, xdata, ydata, x0)"
   ]
  },
  {
   "cell_type": "code",
   "execution_count": 38,
   "metadata": {},
   "outputs": [
    {
     "data": {
      "text/plain": [
       "0.75084524547878939"
      ]
     },
     "execution_count": 38,
     "metadata": {},
     "output_type": "execute_result"
    }
   ],
   "source": [
    "Gain"
   ]
  },
  {
   "cell_type": "code",
   "execution_count": 39,
   "metadata": {},
   "outputs": [
    {
     "data": {
      "text/plain": [
       "-0.72145527964598755"
      ]
     },
     "execution_count": 39,
     "metadata": {},
     "output_type": "execute_result"
    }
   ],
   "source": [
    "Phase"
   ]
  },
  {
   "cell_type": "code",
   "execution_count": 40,
   "metadata": {},
   "outputs": [
    {
     "ename": "NameError",
     "evalue": "name 'A' is not defined",
     "output_type": "error",
     "traceback": [
      "\u001b[0;31m---------------------------------------------------------------------------\u001b[0m",
      "\u001b[0;31mNameError\u001b[0m                                 Traceback (most recent call last)",
      "\u001b[0;32m<ipython-input-40-b12247f09406>\u001b[0m in \u001b[0;36m<module>\u001b[0;34m()\u001b[0m\n\u001b[0;32m----> 1\u001b[0;31m \u001b[0mplot\u001b[0m\u001b[0;34m(\u001b[0m\u001b[0mxdata\u001b[0m\u001b[0;34m,\u001b[0m\u001b[0mydata\u001b[0m\u001b[0;34m,\u001b[0m\u001b[0mxdata\u001b[0m\u001b[0;34m,\u001b[0m \u001b[0mfunc\u001b[0m\u001b[0;34m(\u001b[0m\u001b[0mxdata\u001b[0m\u001b[0;34m,\u001b[0m\u001b[0mA\u001b[0m\u001b[0;34m[\u001b[0m\u001b[0;36m0\u001b[0m\u001b[0;34m]\u001b[0m\u001b[0;34m,\u001b[0m\u001b[0mA\u001b[0m\u001b[0;34m[\u001b[0m\u001b[0;36m1\u001b[0m\u001b[0;34m]\u001b[0m\u001b[0;34m)\u001b[0m\u001b[0;34m)\u001b[0m\u001b[0;34m\u001b[0m\u001b[0m\n\u001b[0m",
      "\u001b[0;31mNameError\u001b[0m: name 'A' is not defined"
     ]
    }
   ],
   "source": [
    "plot(xdata,ydata,xdata, func(xdata,A[0],A[1]))"
   ]
  },
  {
   "cell_type": "code",
   "execution_count": null,
   "metadata": {
    "collapsed": true
   },
   "outputs": [],
   "source": [
    "?control.matlab.bode"
   ]
  },
  {
   "cell_type": "code",
   "execution_count": null,
   "metadata": {
    "collapsed": true
   },
   "outputs": [],
   "source": [
    "?signal.bode"
   ]
  },
  {
   "cell_type": "code",
   "execution_count": null,
   "metadata": {
    "collapsed": true
   },
   "outputs": [],
   "source": [
    "f"
   ]
  },
  {
   "cell_type": "code",
   "execution_count": null,
   "metadata": {
    "collapsed": true
   },
   "outputs": [],
   "source": [
    "# w : 1D ndarray\n",
    "#     Frequency array [rad/s]\n",
    "# mag : 1D ndarray\n",
    "#     Magnitude array [dB]\n",
    "# phase : 1D ndarray\n",
    "#     Phase array [deg]\n",
    "w, mag, phase = signal.bode(sys2, w)"
   ]
  },
  {
   "cell_type": "code",
   "execution_count": null,
   "metadata": {
    "collapsed": true
   },
   "outputs": [],
   "source": [
    "mag"
   ]
  },
  {
   "cell_type": "code",
   "execution_count": null,
   "metadata": {
    "collapsed": true
   },
   "outputs": [],
   "source": [
    "20*np.log10(A[0])"
   ]
  },
  {
   "cell_type": "code",
   "execution_count": null,
   "metadata": {
    "collapsed": true
   },
   "outputs": [],
   "source": []
  }
 ],
 "metadata": {
  "kernelspec": {
   "display_name": "Python 3",
   "language": "python",
   "name": "python3"
  },
  "language_info": {
   "codemirror_mode": {
    "name": "ipython",
    "version": 3
   },
   "file_extension": ".py",
   "mimetype": "text/x-python",
   "name": "python",
   "nbconvert_exporter": "python",
   "pygments_lexer": "ipython3",
   "version": "3.5.2"
  }
 },
 "nbformat": 4,
 "nbformat_minor": 1
}

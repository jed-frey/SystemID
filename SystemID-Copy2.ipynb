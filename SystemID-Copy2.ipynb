{
 "cells": [
  {
   "cell_type": "markdown",
   "metadata": {},
   "source": [
    "# System Identification With Python\n",
    "\n",
    "I need to analyse some data. This is part of that analysis.\n",
    "\n",
    "Would You Like To Know More: \n",
    "\n",
    "- https://www.youtube.com/watch?v=9itsq4_qNZo\n",
    "- http://lpsa.swarthmore.edu/Transient/TransInputs/TransStep.html\n",
    "- https://ocw.mit.edu/courses/mathematics/18-03sc-differential-equations-fall-2011/unit-iii-fourier-series-and-laplace-transform/unit-step-and-unit-impulse-response/MIT18_03SCF11_s25_2text.pdf\n",
    "- http://web.mit.edu/2.151/www/Handouts/FirstSecondOrder.pdf\n",
    "\n",
    "\n",
    "## Part 1: Generate Fake Data\n",
    "\n",
    "To identify data we need to have some known data to identify."
   ]
  },
  {
   "cell_type": "code",
   "execution_count": 24,
   "metadata": {
    "collapsed": false
   },
   "outputs": [],
   "source": [
    "# Parallel Path.\n",
    "import control.matlab\n",
    "from scipy import signal\n",
    "import numpy as np\n",
    "import matplotlib\n",
    "%matplotlib inline\n",
    "def pct_err(experimental, theoretical):\n",
    "    return np.abs((experimental-theoretical)/theoretical) * 100"
   ]
  },
  {
   "cell_type": "code",
   "execution_count": 25,
   "metadata": {
    "collapsed": true
   },
   "outputs": [],
   "source": [
    "import random"
   ]
  },
  {
   "cell_type": "markdown",
   "metadata": {},
   "source": [
    "### First Order System"
   ]
  },
  {
   "cell_type": "code",
   "execution_count": 28,
   "metadata": {
    "collapsed": false
   },
   "outputs": [],
   "source": [
    "K = random.randint(1, 10)\n",
    "tau = random.randint(1, 10)\n",
    "dT = 1e-2"
   ]
  },
  {
   "cell_type": "code",
   "execution_count": 29,
   "metadata": {
    "collapsed": true
   },
   "outputs": [],
   "source": [
    "sys1 = control.matlab.tf(K, [tau, 1])\n",
    "sys2 = signal.lti(K, [tau, 1])"
   ]
  },
  {
   "cell_type": "code",
   "execution_count": 30,
   "metadata": {
    "collapsed": false
   },
   "outputs": [],
   "source": [
    "T = np.arange(0, tau*10, dT)\n",
    "\n",
    "Y1, T1 = control.matlab.step(sys1, T=T)\n",
    "T2a, Y2a = signal.step(sys2, T=T)\n",
    "T2b, Y2b = signal.step2(sys2, T=T)"
   ]
  },
  {
   "cell_type": "markdown",
   "metadata": {},
   "source": [
    "### Part 2: Analyze Fake Data"
   ]
  },
  {
   "cell_type": "code",
   "execution_count": 31,
   "metadata": {
    "collapsed": false
   },
   "outputs": [],
   "source": [
    "def stepID1(T, X, Y):\n",
    "    X_0 = X[0]\n",
    "    X_final = X[-1]\n",
    "\n",
    "    Y_0 = Y[0]\n",
    "    Y_final = Y[-1]\n",
    "    tau_est = list()\n",
    "\n",
    "    K_est = Y_final / X_final\n",
    "\n",
    "    for i in range(1,4):\n",
    "        Y_ = (1-np.exp(-i))*(Y_final-Y_0)\n",
    "        idx1 = np.where(Y_>=Y1)[0][-1]\n",
    "        idx2 = np.where(Y_<=Y1)[0][0]\n",
    "\n",
    "        tau_est.append(T[idx1]/i)\n",
    "        tau_est.append(T[idx2]/i)\n",
    "    tau_est = np.mean(tau_est)\n",
    "\n",
    "    return K_est, tau_est"
   ]
  },
  {
   "cell_type": "code",
   "execution_count": 32,
   "metadata": {
    "collapsed": false
   },
   "outputs": [],
   "source": [
    "X = np.array([0, 1])"
   ]
  },
  {
   "cell_type": "code",
   "execution_count": 33,
   "metadata": {
    "collapsed": false
   },
   "outputs": [
    {
     "data": {
      "text/plain": [
       "(2, 1)"
      ]
     },
     "execution_count": 33,
     "metadata": {},
     "output_type": "execute_result"
    }
   ],
   "source": [
    "(K, tau)"
   ]
  },
  {
   "cell_type": "code",
   "execution_count": 34,
   "metadata": {
    "collapsed": false
   },
   "outputs": [
    {
     "data": {
      "text/plain": [
       "(1.9999082875867158, 0.99694444444444441)"
      ]
     },
     "execution_count": 34,
     "metadata": {},
     "output_type": "execute_result"
    }
   ],
   "source": [
    "stepID1(T, X, Y1)"
   ]
  },
  {
   "cell_type": "code",
   "execution_count": 35,
   "metadata": {
    "collapsed": false
   },
   "outputs": [
    {
     "data": {
      "text/plain": [
       "(1.9999082875867158, 0.99694444444444441)"
      ]
     },
     "execution_count": 35,
     "metadata": {},
     "output_type": "execute_result"
    }
   ],
   "source": [
    "stepID1(T, X, Y2a)"
   ]
  },
  {
   "cell_type": "code",
   "execution_count": 36,
   "metadata": {
    "collapsed": false
   },
   "outputs": [
    {
     "data": {
      "text/plain": [
       "(1.9999082347100579, 0.99694444444444441)"
      ]
     },
     "execution_count": 36,
     "metadata": {},
     "output_type": "execute_result"
    }
   ],
   "source": [
    "stepID1(T, X, Y2b)"
   ]
  },
  {
   "cell_type": "code",
   "execution_count": 42,
   "metadata": {
    "collapsed": false
   },
   "outputs": [
    {
     "name": "stdout",
     "output_type": "stream",
     "text": [
      "Object `tf` not found.\n"
     ]
    }
   ],
   "source": [
    "?tf"
   ]
  },
  {
   "cell_type": "code",
   "execution_count": null,
   "metadata": {
    "collapsed": true
   },
   "outputs": [],
   "source": []
  }
 ],
 "metadata": {
  "kernelspec": {
   "display_name": "Python 3",
   "language": "python",
   "name": "python3"
  },
  "language_info": {
   "codemirror_mode": {
    "name": "ipython",
    "version": 3
   },
   "file_extension": ".py",
   "mimetype": "text/x-python",
   "name": "python",
   "nbconvert_exporter": "python",
   "pygments_lexer": "ipython3",
   "version": "3.4.2"
  }
 },
 "nbformat": 4,
 "nbformat_minor": 0
}
